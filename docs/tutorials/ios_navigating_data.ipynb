{
 "cells": [
  {
   "cell_type": "markdown",
   "metadata": {},
   "source": [
    "# Navigating Data\n",
    "\n",
    "In the previous tutorial we saw how to parse configuration. In this tutorial we are going to see how we can navigate the data we extracted.\n",
    "\n",
    "Let's start by parsing the configuration as in the previous example:"
   ]
  },
  {
   "cell_type": "code",
   "execution_count": 4,
   "metadata": {},
   "outputs": [],
   "source": [
    "import json\n",
    "from ntc_rosetta import get_driver\n",
    "\n",
    "ios = get_driver(\"ios\", \"openconfig\")\n",
    "ios_driver = ios()\n",
    "\n",
    "with open(\"data/ios/config.txt\", \"r\") as f:\n",
    "    config = f.read()\n",
    "    \n",
    "parsed = ios_driver.parse(native={\"dev_conf\": config})"
   ]
  },
  {
   "cell_type": "markdown",
   "metadata": {},
   "source": [
    "## Raw value\n",
    "\n",
    "The most basic form of navigating the data is by using the method `raw_value`, which returns the object using only builtin datastructures:"
   ]
  },
  {
   "cell_type": "code",
   "execution_count": 5,
   "metadata": {
    "scrolled": false
   },
   "outputs": [
    {
     "name": "stdout",
     "output_type": "stream",
     "text": [
      "{\n",
      "  \"openconfig-interfaces:interfaces\": {\n",
      "    \"interface\": [\n",
      "      {\n",
      "        \"config\": {\n",
      "          \"description\": \"This is Fa1\",\n",
      "          \"enabled\": false,\n",
      "          \"name\": \"FastEthernet1\",\n",
      "          \"type\": \"iana-if-type:ethernetCsmacd\"\n",
      "        },\n",
      "        \"name\": \"FastEthernet1\",\n",
      "        \"subinterfaces\": {\n",
      "          \"subinterface\": [\n",
      "            {\n",
      "              \"config\": {\n",
      "                \"description\": \"This is Fa1.1\",\n",
      "                \"index\": 1\n",
      "              },\n",
      "              \"index\": 1\n",
      "            },\n",
      "            {\n",
      "              \"config\": {\n",
      "                \"description\": \"This is Fa1.2\",\n",
      "                \"index\": 2\n",
      "              },\n",
      "              \"index\": 2\n",
      "            }\n",
      "          ]\n",
      "        }\n",
      "      },\n",
      "      {\n",
      "        \"config\": {\n",
      "          \"description\": \"This is Fa3\",\n",
      "          \"enabled\": true,\n",
      "          \"name\": \"FastEthernet3\",\n",
      "          \"type\": \"iana-if-type:ethernetCsmacd\"\n",
      "        },\n",
      "        \"name\": \"FastEthernet3\",\n",
      "        \"openconfig-if-ethernet:ethernet\": {\n",
      "          \"openconfig-vlan:switched-vlan\": {\n",
      "            \"config\": {\n",
      "              \"access-vlan\": 10,\n",
      "              \"interface-mode\": \"ACCESS\"\n",
      "            }\n",
      "          }\n",
      "        }\n",
      "      },\n",
      "      {\n",
      "        \"config\": {\n",
      "          \"enabled\": false,\n",
      "          \"name\": \"FastEthernet4\",\n",
      "          \"type\": \"iana-if-type:ethernetCsmacd\"\n",
      "        },\n",
      "        \"name\": \"FastEthernet4\",\n",
      "        \"openconfig-if-ethernet:ethernet\": {\n",
      "          \"openconfig-vlan:switched-vlan\": {\n",
      "            \"config\": {\n",
      "              \"interface-mode\": \"TRUNK\",\n",
      "              \"trunk-vlans\": [\n",
      "                10,\n",
      "                20\n",
      "              ]\n",
      "            }\n",
      "          }\n",
      "        }\n",
      "      }\n",
      "    ]\n",
      "  },\n",
      "  \"openconfig-network-instance:network-instances\": {\n",
      "    \"network-instance\": [\n",
      "      {\n",
      "        \"config\": {\n",
      "          \"name\": \"default\"\n",
      "        },\n",
      "        \"name\": \"default\",\n",
      "        \"vlans\": {\n",
      "          \"vlan\": [\n",
      "            {\n",
      "              \"config\": {\n",
      "                \"name\": \"prod\",\n",
      "                \"status\": \"ACTIVE\",\n",
      "                \"vlan-id\": 10\n",
      "              },\n",
      "              \"vlan-id\": 10\n",
      "            },\n",
      "            {\n",
      "              \"config\": {\n",
      "                \"name\": \"dev\",\n",
      "                \"status\": \"SUSPENDED\",\n",
      "                \"vlan-id\": 20\n",
      "              },\n",
      "              \"vlan-id\": 20\n",
      "            }\n",
      "          ]\n",
      "        }\n",
      "      }\n",
      "    ]\n",
      "  },\n",
      "  \"openconfig-system:system\": {\n",
      "    \"aaa\": {\n",
      "      \"authentication\": {\n",
      "        \"users\": {\n",
      "          \"user\": [\n",
      "            {\n",
      "              \"config\": {\n",
      "                \"password-hashed\": \"$9$fhUXi6Xg438iAE$..VhXRCHiDQy3K2zmZUl9iZLbQJ9wpUtQZwQxSRESc2\",\n",
      "                \"role\": \"15\",\n",
      "                \"username\": \"developer\"\n",
      "              },\n",
      "              \"username\": \"developer\"\n",
      "            },\n",
      "            {\n",
      "              \"config\": {\n",
      "                \"password-hashed\": \"$9$COf3Q4xfzT.JxE$L3hvSkDv874Qrh8Hzdv/rPQjLNOjreYG2ocffHG7rls\",\n",
      "                \"role\": \"15\",\n",
      "                \"username\": \"cisco\"\n",
      "              },\n",
      "              \"username\": \"cisco\"\n",
      "            },\n",
      "            {\n",
      "              \"config\": {\n",
      "                \"password-hashed\": \"$9$FfUDIPBFcs03AE$MyLIWEuiRle8p3yGflAGTcrJA6BUUh/oWtyyfoMQXSI\",\n",
      "                \"role\": \"15\",\n",
      "                \"username\": \"root\"\n",
      "              },\n",
      "              \"username\": \"root\"\n",
      "            },\n",
      "            {\n",
      "              \"config\": {\n",
      "                \"password\": \"Yu76_87AF\",\n",
      "                \"username\": \"newuser80\"\n",
      "              },\n",
      "              \"username\": \"newuser80\"\n",
      "            }\n",
      "          ]\n",
      "        }\n",
      "      }\n",
      "    },\n",
      "    \"config\": {\n",
      "      \"hostname\": \"csr1000v-1\"\n",
      "    },\n",
      "    \"dns\": {\n",
      "      \"servers\": {\n",
      "        \"server\": [\n",
      "          {\n",
      "            \"address\": \"8.8.8.8\",\n",
      "            \"config\": {\n",
      "              \"address\": \"8.8.8.8\",\n",
      "              \"port\": 53\n",
      "            }\n",
      "          }\n",
      "        ]\n",
      "      }\n",
      "    },\n",
      "    \"ntp\": {\n",
      "      \"config\": {\n",
      "        \"enable-ntp-auth\": false,\n",
      "        \"enabled\": true\n",
      "      },\n",
      "      \"servers\": {\n",
      "        \"server\": [\n",
      "          {\n",
      "            \"address\": \"2610:20:6F96:96::6\",\n",
      "            \"config\": {\n",
      "              \"address\": \"2610:20:6F96:96::6\"\n",
      "            }\n",
      "          },\n",
      "          {\n",
      "            \"address\": \"129.6.15.29\",\n",
      "            \"config\": {\n",
      "              \"address\": \"129.6.15.29\"\n",
      "            }\n",
      "          }\n",
      "        ]\n",
      "      }\n",
      "    },\n",
      "    \"ssh-server\": {\n",
      "      \"config\": {\n",
      "        \"enable\": true,\n",
      "        \"protocol-version\": \"V2\",\n",
      "        \"timeout\": 60\n",
      "      }\n",
      "    },\n",
      "    \"telnet-server\": {\n",
      "      \"config\": {\n",
      "        \"enable\": true\n",
      "      }\n",
      "    }\n",
      "  }\n",
      "}\n"
     ]
    }
   ],
   "source": [
    "raw = parsed.raw_value()\n",
    "print(json.dumps(raw, sort_keys=True, indent=2))"
   ]
  },
  {
   "cell_type": "code",
   "execution_count": 6,
   "metadata": {},
   "outputs": [
    {
     "name": "stdout",
     "output_type": "stream",
     "text": [
      "This is Fa1\n"
     ]
    }
   ],
   "source": [
    "print(raw[\"openconfig-interfaces:interfaces\"][\"interface\"][0][\"config\"][\"description\"])"
   ]
  },
  {
   "cell_type": "markdown",
   "metadata": {},
   "source": [
    "## Instance identifiers\n",
    "\n",
    "You can also use [instance identifiers](https://tools.ietf.org/html/rfc7951#section-6.11) to get data from the object, to do so use the method `peek`:"
   ]
  },
  {
   "cell_type": "code",
   "execution_count": 7,
   "metadata": {},
   "outputs": [
    {
     "data": {
      "text/plain": [
       "'This is Fa1'"
      ]
     },
     "execution_count": 7,
     "metadata": {},
     "output_type": "execute_result"
    }
   ],
   "source": [
    "parsed.peek(\"/openconfig-interfaces:interfaces/interface=FastEthernet1/config/description\")"
   ]
  },
  {
   "cell_type": "code",
   "execution_count": 8,
   "metadata": {},
   "outputs": [
    {
     "data": {
      "text/plain": [
       "'This is Fa1.1'"
      ]
     },
     "execution_count": 8,
     "metadata": {},
     "output_type": "execute_result"
    }
   ],
   "source": [
    "parsed.peek(\"/openconfig-interfaces:interfaces/interface=FastEthernet1/subinterfaces/subinterface=1/config/description\")"
   ]
  },
  {
   "cell_type": "code",
   "execution_count": 9,
   "metadata": {},
   "outputs": [
    {
     "data": {
      "text/plain": [
       "{'config': {'interface-mode': 'ACCESS', 'access-vlan': 10}}"
      ]
     },
     "execution_count": 9,
     "metadata": {},
     "output_type": "execute_result"
    }
   ],
   "source": [
    "parsed.peek(\"/openconfig-interfaces:interfaces/interface=FastEthernet3/openconfig-if-ethernet:ethernet/openconfig-vlan:switched-vlan\")"
   ]
  }
 ],
 "metadata": {
  "kernelspec": {
   "display_name": "Python 3",
   "language": "python",
   "name": "python3"
  },
  "language_info": {
   "codemirror_mode": {
    "name": "ipython",
    "version": 3
   },
   "file_extension": ".py",
   "mimetype": "text/x-python",
   "name": "python",
   "nbconvert_exporter": "python",
   "pygments_lexer": "ipython3",
   "version": "3.6.9"
  }
 },
 "nbformat": 4,
 "nbformat_minor": 2
}
